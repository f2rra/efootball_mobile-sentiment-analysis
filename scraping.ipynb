{
 "cells": [
  {
   "cell_type": "code",
   "execution_count": null,
   "id": "58f255a5",
   "metadata": {},
   "outputs": [],
   "source": [
    "# Mengimpor pustaka google_play_scraper untuk mengakses ulasan dan informasi aplikasi dari Google Play Store.\n",
    "from google_play_scraper import app, reviews, Sort, reviews_all\n",
    " \n",
    "import pandas as pd"
   ]
  },
  {
   "cell_type": "code",
   "execution_count": null,
   "id": "b476c7f6",
   "metadata": {},
   "outputs": [],
   "source": [
    "# Mengambil semua ulasan dari aplikasi dengan ID 'jp.konami.pesam' di Google Play Store.\n",
    "scrapreview, _ = reviews(\n",
    "    'jp.konami.pesam',\n",
    "    lang='id',\n",
    "    country='id',\n",
    "    sort=Sort.MOST_RELEVANT,\n",
    "    count=80000\n",
    ")"
   ]
  },
  {
   "cell_type": "code",
   "execution_count": null,
   "id": "8c15a4ba",
   "metadata": {},
   "outputs": [],
   "source": [
    "# Membuat DataFrame dari hasil scrapreview\n",
    "app_reviews_df = pd.DataFrame(scrapreview)\n",
    "app_reviews_df.to_csv('ulasan_aplikasi.csv', index=False)"
   ]
  }
 ],
 "metadata": {
  "kernelspec": {
   "display_name": "main-ds",
   "language": "python",
   "name": "python3"
  },
  "language_info": {
   "codemirror_mode": {
    "name": "ipython",
    "version": 3
   },
   "file_extension": ".py",
   "mimetype": "text/x-python",
   "name": "python",
   "nbconvert_exporter": "python",
   "pygments_lexer": "ipython3",
   "version": "3.11.11"
  }
 },
 "nbformat": 4,
 "nbformat_minor": 5
}
